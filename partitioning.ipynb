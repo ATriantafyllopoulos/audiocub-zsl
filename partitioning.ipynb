{
 "cells": [
  {
   "cell_type": "code",
   "execution_count": 1,
   "metadata": {},
   "outputs": [
    {
     "data": {
      "text/html": [
       "<div>\n",
       "<style scoped>\n",
       "    .dataframe tbody tr th:only-of-type {\n",
       "        vertical-align: middle;\n",
       "    }\n",
       "\n",
       "    .dataframe tbody tr th {\n",
       "        vertical-align: top;\n",
       "    }\n",
       "\n",
       "    .dataframe thead th {\n",
       "        text-align: right;\n",
       "    }\n",
       "</style>\n",
       "<table border=\"1\" class=\"dataframe\">\n",
       "  <thead>\n",
       "    <tr style=\"text-align: right;\">\n",
       "      <th></th>\n",
       "      <th>filename</th>\n",
       "      <th>features</th>\n",
       "      <th>species</th>\n",
       "    </tr>\n",
       "  </thead>\n",
       "  <tbody>\n",
       "    <tr>\n",
       "      <th>0</th>\n",
       "      <td>Accipiter_gentilis/308130.mp3</td>\n",
       "      <td>0000000000.npy</td>\n",
       "      <td>Accipiter_gentilis</td>\n",
       "    </tr>\n",
       "    <tr>\n",
       "      <th>1</th>\n",
       "      <td>Accipiter_gentilis/102849.mp3</td>\n",
       "      <td>0000000001.npy</td>\n",
       "      <td>Accipiter_gentilis</td>\n",
       "    </tr>\n",
       "    <tr>\n",
       "      <th>2</th>\n",
       "      <td>Accipiter_gentilis/308382.mp3</td>\n",
       "      <td>0000000002.npy</td>\n",
       "      <td>Accipiter_gentilis</td>\n",
       "    </tr>\n",
       "    <tr>\n",
       "      <th>3</th>\n",
       "      <td>Accipiter_gentilis/105802.mp3</td>\n",
       "      <td>0000000003.npy</td>\n",
       "      <td>Accipiter_gentilis</td>\n",
       "    </tr>\n",
       "    <tr>\n",
       "      <th>4</th>\n",
       "      <td>Accipiter_gentilis/308687.mp3</td>\n",
       "      <td>0000000004.npy</td>\n",
       "      <td>Accipiter_gentilis</td>\n",
       "    </tr>\n",
       "    <tr>\n",
       "      <th>...</th>\n",
       "      <td>...</td>\n",
       "      <td>...</td>\n",
       "      <td>...</td>\n",
       "    </tr>\n",
       "    <tr>\n",
       "      <th>104164</th>\n",
       "      <td>Vanellus_vanellus/77360.mp3</td>\n",
       "      <td>0000104164.npy</td>\n",
       "      <td>Vanellus_vanellus</td>\n",
       "    </tr>\n",
       "    <tr>\n",
       "      <th>104165</th>\n",
       "      <td>Vanellus_vanellus/707046.mp3</td>\n",
       "      <td>0000104165.npy</td>\n",
       "      <td>Vanellus_vanellus</td>\n",
       "    </tr>\n",
       "    <tr>\n",
       "      <th>104166</th>\n",
       "      <td>Vanellus_vanellus/91644.mp3</td>\n",
       "      <td>0000104166.npy</td>\n",
       "      <td>Vanellus_vanellus</td>\n",
       "    </tr>\n",
       "    <tr>\n",
       "      <th>104167</th>\n",
       "      <td>Vanellus_vanellus/707047.mp3</td>\n",
       "      <td>0000104167.npy</td>\n",
       "      <td>Vanellus_vanellus</td>\n",
       "    </tr>\n",
       "    <tr>\n",
       "      <th>104168</th>\n",
       "      <td>Vanellus_vanellus/707048.mp3</td>\n",
       "      <td>0000104168.npy</td>\n",
       "      <td>Vanellus_vanellus</td>\n",
       "    </tr>\n",
       "  </tbody>\n",
       "</table>\n",
       "<p>104169 rows × 3 columns</p>\n",
       "</div>"
      ],
      "text/plain": [
       "                             filename        features             species\n",
       "0       Accipiter_gentilis/308130.mp3  0000000000.npy  Accipiter_gentilis\n",
       "1       Accipiter_gentilis/102849.mp3  0000000001.npy  Accipiter_gentilis\n",
       "2       Accipiter_gentilis/308382.mp3  0000000002.npy  Accipiter_gentilis\n",
       "3       Accipiter_gentilis/105802.mp3  0000000003.npy  Accipiter_gentilis\n",
       "4       Accipiter_gentilis/308687.mp3  0000000004.npy  Accipiter_gentilis\n",
       "...                               ...             ...                 ...\n",
       "104164    Vanellus_vanellus/77360.mp3  0000104164.npy   Vanellus_vanellus\n",
       "104165   Vanellus_vanellus/707046.mp3  0000104165.npy   Vanellus_vanellus\n",
       "104166    Vanellus_vanellus/91644.mp3  0000104166.npy   Vanellus_vanellus\n",
       "104167   Vanellus_vanellus/707047.mp3  0000104167.npy   Vanellus_vanellus\n",
       "104168   Vanellus_vanellus/707048.mp3  0000104168.npy   Vanellus_vanellus\n",
       "\n",
       "[104169 rows x 3 columns]"
      ]
     },
     "execution_count": 1,
     "metadata": {},
     "output_type": "execute_result"
    }
   ],
   "source": [
    "import os\n",
    "import sys\n",
    "import pandas as pd\n",
    "from sklearn.model_selection import StratifiedKFold\n",
    "\n",
    "features_path = \"/data/eihw-gpu6/gebhaale/BIRDS/ast-embeddings/features.csv\"\n",
    "features_df = pd.read_csv(features_path)\n",
    "features_df = features_df.rename(columns={'file': 'filename'})\n",
    "features_df['filename'] = features_df['filename'].apply(lambda x: x.lstrip('/'))\n",
    "features_df['species'] = features_df['filename'].apply(lambda x: x.split('/')[0])\n",
    "features_df"
   ]
  },
  {
   "cell_type": "code",
   "execution_count": 52,
   "metadata": {},
   "outputs": [
    {
     "data": {
      "text/plain": [
       "(array([['Accipiter_gentilis/308130.mp3', '0000000000.npy'],\n",
       "        ['Accipiter_gentilis/102849.mp3', '0000000001.npy'],\n",
       "        ['Accipiter_gentilis/308382.mp3', '0000000002.npy'],\n",
       "        ...,\n",
       "        ['Vanellus_vanellus/91644.mp3', '0000104166.npy'],\n",
       "        ['Vanellus_vanellus/707047.mp3', '0000104167.npy'],\n",
       "        ['Vanellus_vanellus/707048.mp3', '0000104168.npy']], dtype=object),\n",
       " array(['Accipiter_gentilis', 'Accipiter_gentilis', 'Accipiter_gentilis',\n",
       "        ..., 'Vanellus_vanellus', 'Vanellus_vanellus', 'Vanellus_vanellus'],\n",
       "       dtype=object))"
      ]
     },
     "execution_count": 52,
     "metadata": {},
     "output_type": "execute_result"
    }
   ],
   "source": [
    "X = features_df.drop(columns=['species']).values\n",
    "y = features_df['species'].values\n",
    "\n",
    "X, y"
   ]
  },
  {
   "cell_type": "code",
   "execution_count": 53,
   "metadata": {},
   "outputs": [],
   "source": [
    "num_folds = 5\n",
    "seed = 42\n",
    "skf = StratifiedKFold(n_splits=num_folds, shuffle=True, random_state=seed)\n",
    "\n",
    "destination_folder = f\"/nas/staff/data_work/AG/BIRDS/{num_folds}-fold/\"\n",
    "os.makedirs(destination_folder, exist_ok=True)"
   ]
  },
  {
   "cell_type": "code",
   "execution_count": 54,
   "metadata": {},
   "outputs": [
    {
     "name": "stdout",
     "output_type": "stream",
     "text": [
      "Fold 1\n",
      "Len Train:  0.5999961600860141\n",
      "Len Val:  0.20000191995699296\n",
      "Len Test:  0.20000191995699296\n",
      "Fold 2\n",
      "Len Train:  0.5999961600860141\n",
      "Len Val:  0.20000191995699296\n",
      "Len Test:  0.20000191995699296\n",
      "Fold 3\n",
      "Len Train:  0.5999961600860141\n",
      "Len Val:  0.20000191995699296\n",
      "Len Test:  0.20000191995699296\n",
      "Fold 4\n",
      "Len Train:  0.5999961600860141\n",
      "Len Val:  0.20000191995699296\n",
      "Len Test:  0.20000191995699296\n",
      "Fold 5\n",
      "Len Train:  0.6000057598709789\n",
      "Len Val:  0.20000191995699296\n",
      "Len Test:  0.19999232017202814\n"
     ]
    }
   ],
   "source": [
    "for fold_idx, (train_val_indices, test_indices) in enumerate(skf.split(X, y)):\n",
    "    print(f\"Fold {fold_idx + 1}\")\n",
    "    fold_dir = os.path.join(destination_folder, str(fold_idx))\n",
    "    os.makedirs(fold_dir, exist_ok=True)\n",
    "\n",
    "    # Split the train_val_indices further into train and validation sets\n",
    "    skf_train_val = StratifiedKFold(n_splits=4, shuffle=True, random_state=seed)\n",
    "    train_indices, val_indices = next(skf_train_val.split(X[train_val_indices], y[train_val_indices]))\n",
    "\n",
    "    # Get the data and labels for each set in this fold\n",
    "    X_train, y_train = X[train_indices], y[train_indices]\n",
    "    X_val, y_val = X[val_indices], y[val_indices]\n",
    "    X_test, y_test = X[test_indices], y[test_indices]\n",
    "\n",
    "    train_df = features_df.iloc[train_indices]\n",
    "    dev_df = features_df.iloc[val_indices]\n",
    "    test_df = features_df.iloc[test_indices]\n",
    "\n",
    "    print(\"Len Train: \", len(train_df)/len(features_df))\n",
    "    print(\"Len Val: \", len(dev_df)/len(features_df))\n",
    "    print(\"Len Test: \", len(test_df)/len(features_df))\n",
    "    train_df.to_csv(os.path.join(fold_dir, 'train.csv'), index=None)\n",
    "    dev_df.to_csv(os.path.join(fold_dir, 'devel.csv'), index=None)\n",
    "    test_df.to_csv(os.path.join(fold_dir, 'test.csv'), index=None)\n"
   ]
  },
  {
   "cell_type": "code",
   "execution_count": 55,
   "metadata": {},
   "outputs": [
    {
     "name": "stdout",
     "output_type": "stream",
     "text": [
      "Parus_major               3529\n",
      "Phylloscopus_collybita    2627\n",
      "Fringilla_coelebs         2565\n",
      "Loxia_curvirostra         2544\n",
      "Erithacus_rubecula        2105\n",
      "                          ... \n",
      "Milvus_migrans             165\n",
      "Columba_oenas              134\n",
      "Ciconia_ciconia             80\n",
      "Pernis_apivorus             76\n",
      "Milvus_milvus               73\n",
      "Name: species, Length: 81, dtype: int64\n"
     ]
    }
   ],
   "source": [
    "print(train_df['species'].value_counts())"
   ]
  },
  {
   "cell_type": "code",
   "execution_count": 56,
   "metadata": {},
   "outputs": [
    {
     "name": "stdout",
     "output_type": "stream",
     "text": [
      "Parus_major               1192\n",
      "Fringilla_coelebs          870\n",
      "Phylloscopus_collybita     864\n",
      "Loxia_curvirostra          837\n",
      "Erithacus_rubecula         703\n",
      "                          ... \n",
      "Milvus_migrans              46\n",
      "Columba_oenas               39\n",
      "Ciconia_ciconia             26\n",
      "Milvus_milvus               25\n",
      "Pernis_apivorus             21\n",
      "Name: species, Length: 81, dtype: int64\n"
     ]
    }
   ],
   "source": [
    "print(dev_df['species'].value_counts())"
   ]
  },
  {
   "cell_type": "code",
   "execution_count": 57,
   "metadata": {},
   "outputs": [
    {
     "name": "stdout",
     "output_type": "stream",
     "text": [
      "Parus_major               944\n",
      "Phylloscopus_collybita    699\n",
      "Fringilla_coelebs         687\n",
      "Loxia_curvirostra         676\n",
      "Turdus_merula             604\n",
      "                         ... \n",
      "Milvus_migrans             43\n",
      "Columba_oenas              34\n",
      "Ciconia_ciconia            22\n",
      "Pernis_apivorus            19\n",
      "Milvus_milvus              19\n",
      "Name: species, Length: 95, dtype: int64\n"
     ]
    }
   ],
   "source": [
    "print(test_df['species'].value_counts())"
   ]
  },
  {
   "cell_type": "code",
   "execution_count": null,
   "metadata": {},
   "outputs": [],
   "source": []
  },
  {
   "attachments": {},
   "cell_type": "markdown",
   "metadata": {},
   "source": [
    "### Partition the species in an exclusive way for train, dev, test for 0-shot"
   ]
  },
  {
   "cell_type": "code",
   "execution_count": 68,
   "metadata": {},
   "outputs": [],
   "source": [
    "destination_path = \"/nas/staff/data_work/AG/BIRDS/zsl-5fold/\"\n",
    "# os.makedirs(destination_path, exist_ok=True)\n",
    "\n",
    "X = features_df.drop(columns=[\"species\"]).values\n",
    "y = features_df[\"species\"].values\n",
    "groups = features_df[\"species\"].values\n",
    "\n",
    "num_folds = 10\n",
    "gkf = GroupKFold(n_splits=num_folds)\n",
    "gkf_train_val = GroupKFold(n_splits=8)"
   ]
  },
  {
   "cell_type": "code",
   "execution_count": 70,
   "metadata": {},
   "outputs": [
    {
     "name": "stdout",
     "output_type": "stream",
     "text": [
      "\n",
      "Fold 0:\n",
      "Labels train:  76\n",
      "Labels val:  11\n",
      "Labels test:  8\n",
      "\n",
      "Fold 1:\n",
      "Labels train:  76\n",
      "Labels val:  10\n",
      "Labels test:  9\n",
      "\n",
      "Fold 2:\n",
      "Labels train:  76\n",
      "Labels val:  10\n",
      "Labels test:  9\n",
      "\n",
      "Fold 3:\n",
      "Labels train:  76\n",
      "Labels val:  10\n",
      "Labels test:  9\n",
      "\n",
      "Fold 4:\n",
      "Labels train:  76\n",
      "Labels val:  9\n",
      "Labels test:  10\n"
     ]
    }
   ],
   "source": [
    "for i, (train_val_indices, test_indices) in enumerate(gkf.split(X, y, groups)):\n",
    "    if i > 4:\n",
    "        break\n",
    "    print(f\"\\nFold {i}:\")\n",
    "    store_path = os.path.join(destination_path, str(i))\n",
    "    os.makedirs(store_path, exist_ok=True)\n",
    "\n",
    "    # groups_to_drop = features_df.iloc[test_indices]['species'].unique()\n",
    "    # train_indices, val_indices = next(gkf_train_val.split(X[train_val_indices], y[train_val_indices], groups[train_val_indices]))\n",
    "    train_val_df = features_df.iloc[train_val_indices]\n",
    "    # dev = features_df.iloc[val_indices]\n",
    "    test_df = features_df.iloc[test_indices]\n",
    "    groups_train_val = features_df[\"species\"].iloc[train_val_indices]\n",
    "    \n",
    "    train_indices, val_indices = next(gkf_train_val.split(train_val_df.values, train_val_df['species'].values, train_val_df['species'].values))\n",
    "    train_df = train_val_df.iloc[train_indices]\n",
    "    val_df = train_val_df.iloc[val_indices]\n",
    "\n",
    "    print(\"Labels train: \", len(train_df['species'].unique()))\n",
    "    print(\"Labels val: \", len(val_df['species'].unique()))\n",
    "    print(\"Labels test: \", len(test_df['species'].unique()))\n",
    "    train_df.to_csv(os.path.join(store_path, 'train.csv'), index=None)\n",
    "    val_df.to_csv(os.path.join(store_path, 'devel.csv'), index=None)\n",
    "    test_df.to_csv(os.path.join(store_path, 'test.csv'), index=None)\n"
   ]
  },
  {
   "cell_type": "code",
   "execution_count": null,
   "metadata": {},
   "outputs": [],
   "source": []
  }
 ],
 "metadata": {
  "kernelspec": {
   "display_name": ".venv",
   "language": "python",
   "name": "python3"
  },
  "language_info": {
   "codemirror_mode": {
    "name": "ipython",
    "version": 3
   },
   "file_extension": ".py",
   "mimetype": "text/x-python",
   "name": "python",
   "nbconvert_exporter": "python",
   "pygments_lexer": "ipython3",
   "version": "3.10.8"
  },
  "orig_nbformat": 4
 },
 "nbformat": 4,
 "nbformat_minor": 2
}
